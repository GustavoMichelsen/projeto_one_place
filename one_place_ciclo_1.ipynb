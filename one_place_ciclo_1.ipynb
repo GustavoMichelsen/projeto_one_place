{
 "cells": [
  {
   "cell_type": "markdown",
   "id": "9aa1fd46",
   "metadata": {
    "heading_collapsed": true
   },
   "source": [
    "# Description"
   ]
  },
  {
   "cell_type": "markdown",
   "id": "3805d148",
   "metadata": {
    "heading_collapsed": true,
    "hidden": true
   },
   "source": [
    "#### O Desafio\n",
    "\n",
    "Você faz parte do time de cientistas de dados da empres All In One Place, que precisa determinar quem são os clientes elegíveis para participar do Insiders. Em posse dessa lista, o time de Marketing fará uma sequência de ações personalizadas e exclusivas ao grupo, de modo a aumentar o faturamento e a frequência de compra.\n",
    "Como resultado para esse projeto, é esperado que você entregue um lista de pessoas elegíveis a participar do programa Insiders, junto com um relatório respondendo às seguintes perguntas:\n",
    "\n",
    "1. Quem são as pessoas elegíveis para participar do programa de Insiders?\n",
    "2. Quantos clinetes farão parte do grupo?\n",
    "3. Quais as principais características desses clientes?\n",
    "4. Qual a porcentagem de contribuição do faturamento, vinda do Insiders?\n",
    "5. Qual a expectativa de faturamento desse grupo para os próximos meses?\n",
    "6. Quais as condições para uma pessoa ser elegível ao Insiders?\n",
    "7. Quais as condições para uma pessoa ser removida do Insiders?\n",
    "8. Qual a garantia que o programa Insiders é melhor que o restante da base?\n",
    "9. Quais ações o time de marketing pode realizar para aumentar o faturamento?\n",
    "\n",
    "#### Os dados\n",
    "\n",
    "- Invoice Number: Identificador único de cada transação.\n",
    "- Stock Code Product: Código do item\n",
    "- Description Product: nome do item\n",
    "- Quantity: A quantidade de item comprado por transação.\n",
    "- Invoice Date: O dia em que a transação ocorreu.\n",
    "- Unit Price: Preço do produto por unidade.\n",
    "- Customer ID: Identificador único do cliente\n",
    "- Country: O nome do pais que o cliente reside."
   ]
  },
  {
   "cell_type": "markdown",
   "id": "b2fb9abf",
   "metadata": {
    "heading_collapsed": true
   },
   "source": [
    "# Solution Planning"
   ]
  },
  {
   "cell_type": "markdown",
   "id": "ac5bd530",
   "metadata": {
    "hidden": true
   },
   "source": [
    "1. Quem são as pessoas elegíveis para participar do programa de Insiders?\n",
    "    - Monetário\n",
    "        - valor médio dos pedidos\n",
    "        - LTV\n",
    "        - valor total dos pedidos\n",
    "    - Recencia\n",
    "        - Quantas vezes o cliente comprou\n",
    "    - Frequencia\n",
    "        - Frequencia de compra\n",
    "        \n",
    "        \n",
    "2. Quantos clinetes farão parte do grupo?\n",
    "    - Total de clientes + percentual sobre a base.\n",
    "    \n",
    "    \n",
    "3. Quais as principais características desses clientes?\n",
    "    - Lista das principais caracteristicas de compra.\n",
    "\n",
    "\n",
    "4. Qual a porcentagem de contribuição do faturamento, vinda do Insiders?\n",
    "    - Percentual de faturamento do grupo sobre o total de vendas.\n",
    "\n",
    "\n",
    "5. Qual a expectativa de faturamento desse grupo para os próximos meses?\n",
    "    - Previsão de faturamento.\n",
    "\n",
    "6. Quais as condições para uma pessoa ser elegível ao Insiders?\n",
    "7. Quais as condições para uma pessoa ser removida do Insiders?\n",
    "8. Qual a garantia que o programa Insiders é melhor que o restante da base?\n",
    "    - Teste A\\B\n",
    "    - Teste A\\B gausiano\n",
    "    - \n",
    "\n",
    "\n",
    "9. Quais ações o time de marketing pode realizar para aumentar o faturamento?\n",
    "\n",
    "\n",
    "#### Benchmark\n",
    "\n",
    "- RFM\n",
    "    - https://www.optimove.com/resources/learning-center/customer-segmentation-via-cluster-analysis\n",
    "    - https://www.techtarget.com/searchdatamanagement/definition/RFM-analysis?\n",
    "    - https://www.omniconvert.com/blog/rfm-score/ - segments\n",
    "- K-Means\n",
    "    - https://towardsdatascience.com/customer-segmentation-using-k-means-clustering-d33964f238c3\n",
    "    - Elbow Method Visualizer\n",
    "    \n",
    "    \n",
    "        from yekkiwbrick.cluster import KElbowVisualiser\n",
    "        Elbow_M = KElbowVisualizer(KMeans(), k=10)\n",
    "        Elbow_M.fit(PCA_ds)\n",
    "        Elbow_M.show()\n",
    "\n",
    "#### Ideias de entrega\n",
    "- Começar aplicando RFM para gerar valor e trazer as principais caracteristicas dos clientes.\n",
    "- Relatório de Insights\n",
    "- Algoritmo K-means (usar RFM para entrada)\n",
    "- Relatório Final\n",
    "\n",
    "#### Ideias para outros algoritmos\n",
    "- Ativação de recompra\n",
    "    - Identificar o momento certo de mandar propagandas e promoções para o cliente 'lembrar' de comprar na loja.\n",
    "- Previsão de classificação\n",
    "    - Prever em qual classificação o cliente vai se encaixar. Com isso podemos direcionar o marketing para que ele possa subir no nosso rank de clientes."
   ]
  },
  {
   "cell_type": "markdown",
   "id": "5e57c5f2",
   "metadata": {},
   "source": [
    "# 0. Imports & Help Functions"
   ]
  },
  {
   "cell_type": "markdown",
   "id": "21e604fc",
   "metadata": {},
   "source": [
    "## 0.1 Imports"
   ]
  },
  {
   "cell_type": "code",
   "execution_count": 147,
   "id": "9a7c2c9a",
   "metadata": {
    "ExecuteTime": {
     "end_time": "2023-06-21T11:16:28.994310Z",
     "start_time": "2023-06-21T11:16:18.578534Z"
    }
   },
   "outputs": [],
   "source": [
    "import inflection\n",
    "\n",
    "import pandas  as pd\n",
    "import numpy   as np\n",
    "import seaborn as sns\n",
    "\n",
    "from matplotlib import pyplot as plt"
   ]
  },
  {
   "cell_type": "markdown",
   "id": "19c82477",
   "metadata": {
    "heading_collapsed": true
   },
   "source": [
    "## 0.2 Data Import"
   ]
  },
  {
   "cell_type": "code",
   "execution_count": 2,
   "id": "4cc79a51",
   "metadata": {
    "ExecuteTime": {
     "end_time": "2023-06-19T12:07:53.406730Z",
     "start_time": "2023-06-19T12:07:52.252953Z"
    },
    "hidden": true
   },
   "outputs": [],
   "source": [
    "df_raw = pd.read_csv('dataset/ecommerce.csv', encoding='windows-1252')\n",
    "df_raw = df_raw.drop(columns='Unnamed: 8')"
   ]
  },
  {
   "cell_type": "markdown",
   "id": "9838063b",
   "metadata": {
    "heading_collapsed": true
   },
   "source": [
    "# 1. Data Description"
   ]
  },
  {
   "cell_type": "code",
   "execution_count": 3,
   "id": "201c9a2a",
   "metadata": {
    "ExecuteTime": {
     "end_time": "2023-06-19T12:07:56.127513Z",
     "start_time": "2023-06-19T12:07:56.095598Z"
    },
    "hidden": true
   },
   "outputs": [],
   "source": [
    "df1 = df_raw.copy()"
   ]
  },
  {
   "cell_type": "code",
   "execution_count": 4,
   "id": "510d8db9",
   "metadata": {
    "ExecuteTime": {
     "end_time": "2023-06-19T12:07:59.517868Z",
     "start_time": "2023-06-19T12:07:59.457517Z"
    },
    "hidden": true
   },
   "outputs": [
    {
     "data": {
      "text/html": [
       "<div>\n",
       "<style scoped>\n",
       "    .dataframe tbody tr th:only-of-type {\n",
       "        vertical-align: middle;\n",
       "    }\n",
       "\n",
       "    .dataframe tbody tr th {\n",
       "        vertical-align: top;\n",
       "    }\n",
       "\n",
       "    .dataframe thead th {\n",
       "        text-align: right;\n",
       "    }\n",
       "</style>\n",
       "<table border=\"1\" class=\"dataframe\">\n",
       "  <thead>\n",
       "    <tr style=\"text-align: right;\">\n",
       "      <th></th>\n",
       "      <th>InvoiceNo</th>\n",
       "      <th>StockCode</th>\n",
       "      <th>Description</th>\n",
       "      <th>Quantity</th>\n",
       "      <th>InvoiceDate</th>\n",
       "      <th>UnitPrice</th>\n",
       "      <th>CustomerID</th>\n",
       "      <th>Country</th>\n",
       "    </tr>\n",
       "  </thead>\n",
       "  <tbody>\n",
       "    <tr>\n",
       "      <th>0</th>\n",
       "      <td>536365</td>\n",
       "      <td>85123A</td>\n",
       "      <td>WHITE HANGING HEART T-LIGHT HOLDER</td>\n",
       "      <td>6</td>\n",
       "      <td>29-Nov-16</td>\n",
       "      <td>2.55</td>\n",
       "      <td>17850.0</td>\n",
       "      <td>United Kingdom</td>\n",
       "    </tr>\n",
       "    <tr>\n",
       "      <th>1</th>\n",
       "      <td>536365</td>\n",
       "      <td>71053</td>\n",
       "      <td>WHITE METAL LANTERN</td>\n",
       "      <td>6</td>\n",
       "      <td>29-Nov-16</td>\n",
       "      <td>3.39</td>\n",
       "      <td>17850.0</td>\n",
       "      <td>United Kingdom</td>\n",
       "    </tr>\n",
       "    <tr>\n",
       "      <th>2</th>\n",
       "      <td>536365</td>\n",
       "      <td>84406B</td>\n",
       "      <td>CREAM CUPID HEARTS COAT HANGER</td>\n",
       "      <td>8</td>\n",
       "      <td>29-Nov-16</td>\n",
       "      <td>2.75</td>\n",
       "      <td>17850.0</td>\n",
       "      <td>United Kingdom</td>\n",
       "    </tr>\n",
       "    <tr>\n",
       "      <th>3</th>\n",
       "      <td>536365</td>\n",
       "      <td>84029G</td>\n",
       "      <td>KNITTED UNION FLAG HOT WATER BOTTLE</td>\n",
       "      <td>6</td>\n",
       "      <td>29-Nov-16</td>\n",
       "      <td>3.39</td>\n",
       "      <td>17850.0</td>\n",
       "      <td>United Kingdom</td>\n",
       "    </tr>\n",
       "    <tr>\n",
       "      <th>4</th>\n",
       "      <td>536365</td>\n",
       "      <td>84029E</td>\n",
       "      <td>RED WOOLLY HOTTIE WHITE HEART.</td>\n",
       "      <td>6</td>\n",
       "      <td>29-Nov-16</td>\n",
       "      <td>3.39</td>\n",
       "      <td>17850.0</td>\n",
       "      <td>United Kingdom</td>\n",
       "    </tr>\n",
       "  </tbody>\n",
       "</table>\n",
       "</div>"
      ],
      "text/plain": [
       "  InvoiceNo StockCode                          Description  Quantity  \\\n",
       "0    536365    85123A   WHITE HANGING HEART T-LIGHT HOLDER         6   \n",
       "1    536365     71053                  WHITE METAL LANTERN         6   \n",
       "2    536365    84406B       CREAM CUPID HEARTS COAT HANGER         8   \n",
       "3    536365    84029G  KNITTED UNION FLAG HOT WATER BOTTLE         6   \n",
       "4    536365    84029E       RED WOOLLY HOTTIE WHITE HEART.         6   \n",
       "\n",
       "  InvoiceDate  UnitPrice  CustomerID         Country  \n",
       "0   29-Nov-16       2.55     17850.0  United Kingdom  \n",
       "1   29-Nov-16       3.39     17850.0  United Kingdom  \n",
       "2   29-Nov-16       2.75     17850.0  United Kingdom  \n",
       "3   29-Nov-16       3.39     17850.0  United Kingdom  \n",
       "4   29-Nov-16       3.39     17850.0  United Kingdom  "
      ]
     },
     "execution_count": 4,
     "metadata": {},
     "output_type": "execute_result"
    }
   ],
   "source": [
    "df1.head()"
   ]
  },
  {
   "cell_type": "markdown",
   "id": "03f5b3c4",
   "metadata": {
    "ExecuteTime": {
     "end_time": "2023-06-14T11:29:24.708353Z",
     "start_time": "2023-06-14T11:29:24.703365Z"
    },
    "heading_collapsed": true,
    "hidden": true
   },
   "source": [
    "## 1.1 Rename Columns"
   ]
  },
  {
   "cell_type": "code",
   "execution_count": 5,
   "id": "9c094df1",
   "metadata": {
    "ExecuteTime": {
     "end_time": "2023-06-20T11:30:21.415233Z",
     "start_time": "2023-06-20T11:30:21.022979Z"
    },
    "hidden": true
   },
   "outputs": [
    {
     "data": {
      "text/html": [
       "<div>\n",
       "<style scoped>\n",
       "    .dataframe tbody tr th:only-of-type {\n",
       "        vertical-align: middle;\n",
       "    }\n",
       "\n",
       "    .dataframe tbody tr th {\n",
       "        vertical-align: top;\n",
       "    }\n",
       "\n",
       "    .dataframe thead th {\n",
       "        text-align: right;\n",
       "    }\n",
       "</style>\n",
       "<table border=\"1\" class=\"dataframe\">\n",
       "  <thead>\n",
       "    <tr style=\"text-align: right;\">\n",
       "      <th></th>\n",
       "      <th>invoice_no</th>\n",
       "      <th>stock_code</th>\n",
       "      <th>description</th>\n",
       "      <th>quantity</th>\n",
       "      <th>invoice_date</th>\n",
       "      <th>unit_price</th>\n",
       "      <th>customer_id</th>\n",
       "      <th>country</th>\n",
       "    </tr>\n",
       "  </thead>\n",
       "  <tbody>\n",
       "    <tr>\n",
       "      <th>0</th>\n",
       "      <td>536365</td>\n",
       "      <td>85123A</td>\n",
       "      <td>WHITE HANGING HEART T-LIGHT HOLDER</td>\n",
       "      <td>6</td>\n",
       "      <td>29-Nov-16</td>\n",
       "      <td>2.55</td>\n",
       "      <td>17850.0</td>\n",
       "      <td>United Kingdom</td>\n",
       "    </tr>\n",
       "    <tr>\n",
       "      <th>1</th>\n",
       "      <td>536365</td>\n",
       "      <td>71053</td>\n",
       "      <td>WHITE METAL LANTERN</td>\n",
       "      <td>6</td>\n",
       "      <td>29-Nov-16</td>\n",
       "      <td>3.39</td>\n",
       "      <td>17850.0</td>\n",
       "      <td>United Kingdom</td>\n",
       "    </tr>\n",
       "    <tr>\n",
       "      <th>2</th>\n",
       "      <td>536365</td>\n",
       "      <td>84406B</td>\n",
       "      <td>CREAM CUPID HEARTS COAT HANGER</td>\n",
       "      <td>8</td>\n",
       "      <td>29-Nov-16</td>\n",
       "      <td>2.75</td>\n",
       "      <td>17850.0</td>\n",
       "      <td>United Kingdom</td>\n",
       "    </tr>\n",
       "    <tr>\n",
       "      <th>3</th>\n",
       "      <td>536365</td>\n",
       "      <td>84029G</td>\n",
       "      <td>KNITTED UNION FLAG HOT WATER BOTTLE</td>\n",
       "      <td>6</td>\n",
       "      <td>29-Nov-16</td>\n",
       "      <td>3.39</td>\n",
       "      <td>17850.0</td>\n",
       "      <td>United Kingdom</td>\n",
       "    </tr>\n",
       "    <tr>\n",
       "      <th>4</th>\n",
       "      <td>536365</td>\n",
       "      <td>84029E</td>\n",
       "      <td>RED WOOLLY HOTTIE WHITE HEART.</td>\n",
       "      <td>6</td>\n",
       "      <td>29-Nov-16</td>\n",
       "      <td>3.39</td>\n",
       "      <td>17850.0</td>\n",
       "      <td>United Kingdom</td>\n",
       "    </tr>\n",
       "  </tbody>\n",
       "</table>\n",
       "</div>"
      ],
      "text/plain": [
       "  invoice_no stock_code                          description  quantity  \\\n",
       "0     536365     85123A   WHITE HANGING HEART T-LIGHT HOLDER         6   \n",
       "1     536365      71053                  WHITE METAL LANTERN         6   \n",
       "2     536365     84406B       CREAM CUPID HEARTS COAT HANGER         8   \n",
       "3     536365     84029G  KNITTED UNION FLAG HOT WATER BOTTLE         6   \n",
       "4     536365     84029E       RED WOOLLY HOTTIE WHITE HEART.         6   \n",
       "\n",
       "  invoice_date  unit_price  customer_id         country  \n",
       "0    29-Nov-16        2.55      17850.0  United Kingdom  \n",
       "1    29-Nov-16        3.39      17850.0  United Kingdom  \n",
       "2    29-Nov-16        2.75      17850.0  United Kingdom  \n",
       "3    29-Nov-16        3.39      17850.0  United Kingdom  \n",
       "4    29-Nov-16        3.39      17850.0  United Kingdom  "
      ]
     },
     "execution_count": 5,
     "metadata": {},
     "output_type": "execute_result"
    }
   ],
   "source": [
    "old_columns = df1.columns\n",
    "snekecase = lambda x: inflection.underscore(x)\n",
    "new_columns = list(map(snekecase, old_columns))\n",
    "df1.columns = new_columns\n",
    "\n",
    "df1.head()"
   ]
  },
  {
   "cell_type": "markdown",
   "id": "887a5006",
   "metadata": {
    "ExecuteTime": {
     "end_time": "2023-06-14T11:53:43.933915Z",
     "start_time": "2023-06-14T11:53:43.925933Z"
    },
    "heading_collapsed": true,
    "hidden": true
   },
   "source": [
    "## 1.2 Data Dimensions"
   ]
  },
  {
   "cell_type": "code",
   "execution_count": 6,
   "id": "1a7a7cef",
   "metadata": {
    "ExecuteTime": {
     "end_time": "2023-06-16T11:38:17.413361Z",
     "start_time": "2023-06-16T11:38:17.402391Z"
    },
    "hidden": true
   },
   "outputs": [
    {
     "name": "stdout",
     "output_type": "stream",
     "text": [
      "Linhas: 541909\n",
      "Colunas: 8\n"
     ]
    }
   ],
   "source": [
    "# print(\"Linhas: {}\".format(df1.shape[0]))\n",
    "# print(\"Colunas: {}\".format(df1.shape[1]))"
   ]
  },
  {
   "cell_type": "markdown",
   "id": "0169f76c",
   "metadata": {
    "heading_collapsed": true,
    "hidden": true
   },
   "source": [
    "## 1.3 Data Dtypes"
   ]
  },
  {
   "cell_type": "code",
   "execution_count": 7,
   "id": "dd32fa27",
   "metadata": {
    "ExecuteTime": {
     "end_time": "2023-06-16T11:38:20.154122Z",
     "start_time": "2023-06-16T11:38:20.138162Z"
    },
    "hidden": true
   },
   "outputs": [
    {
     "data": {
      "text/plain": [
       "invoice_no       object\n",
       "stock_code       object\n",
       "description      object\n",
       "quantity          int64\n",
       "invoice_date     object\n",
       "unit_price      float64\n",
       "customer_id     float64\n",
       "country          object\n",
       "dtype: object"
      ]
     },
     "execution_count": 7,
     "metadata": {},
     "output_type": "execute_result"
    }
   ],
   "source": [
    "# df1.dtypes"
   ]
  },
  {
   "cell_type": "markdown",
   "id": "cc245f0c",
   "metadata": {
    "heading_collapsed": true,
    "hidden": true
   },
   "source": [
    "## 1.4 Check NA"
   ]
  },
  {
   "cell_type": "code",
   "execution_count": 8,
   "id": "78246c50",
   "metadata": {
    "ExecuteTime": {
     "end_time": "2023-06-16T11:38:23.044589Z",
     "start_time": "2023-06-16T11:38:22.410145Z"
    },
    "hidden": true,
    "scrolled": true
   },
   "outputs": [
    {
     "data": {
      "text/plain": [
       "invoice_no           0\n",
       "stock_code           0\n",
       "description       1454\n",
       "quantity             0\n",
       "invoice_date         0\n",
       "unit_price           0\n",
       "customer_id     135080\n",
       "country              0\n",
       "dtype: int64"
      ]
     },
     "execution_count": 8,
     "metadata": {},
     "output_type": "execute_result"
    }
   ],
   "source": [
    "# df1.isna().sum()"
   ]
  },
  {
   "cell_type": "markdown",
   "id": "2670b02b",
   "metadata": {
    "heading_collapsed": true,
    "hidden": true
   },
   "source": [
    "## 1.5 Conclusions About the Data"
   ]
  },
  {
   "cell_type": "markdown",
   "id": "41c6f697",
   "metadata": {
    "hidden": true
   },
   "source": [
    "No momento do treino do modelo eu não vou precisar dos dados de descrição do produto (description), por que o número de armazenagem (stock_code) já me passa a ideia de qual produto se trata.\n",
    "\n",
    "Preciso fazer o drop das linhas que não tem dados no customer_id por precisar agrupar meus clientes e sem esse dado eu não sei quem comprou o produto x ou y."
   ]
  },
  {
   "cell_type": "markdown",
   "id": "02fa5370",
   "metadata": {
    "heading_collapsed": true,
    "hidden": true
   },
   "source": [
    "## 1.6 FillOut NA"
   ]
  },
  {
   "cell_type": "code",
   "execution_count": 6,
   "id": "7d4be3b8",
   "metadata": {
    "ExecuteTime": {
     "end_time": "2023-06-20T11:31:05.871367Z",
     "start_time": "2023-06-20T11:31:02.228888Z"
    },
    "hidden": true
   },
   "outputs": [
    {
     "data": {
      "text/html": [
       "<div>\n",
       "<style scoped>\n",
       "    .dataframe tbody tr th:only-of-type {\n",
       "        vertical-align: middle;\n",
       "    }\n",
       "\n",
       "    .dataframe tbody tr th {\n",
       "        vertical-align: top;\n",
       "    }\n",
       "\n",
       "    .dataframe thead th {\n",
       "        text-align: right;\n",
       "    }\n",
       "</style>\n",
       "<table border=\"1\" class=\"dataframe\">\n",
       "  <thead>\n",
       "    <tr style=\"text-align: right;\">\n",
       "      <th></th>\n",
       "      <th>invoice_no</th>\n",
       "      <th>stock_code</th>\n",
       "      <th>description</th>\n",
       "      <th>quantity</th>\n",
       "      <th>invoice_date</th>\n",
       "      <th>unit_price</th>\n",
       "      <th>customer_id</th>\n",
       "      <th>country</th>\n",
       "      <th>total_invoice_price</th>\n",
       "      <th>invoice_day</th>\n",
       "      <th>invoice_month</th>\n",
       "      <th>invoice_year</th>\n",
       "    </tr>\n",
       "  </thead>\n",
       "  <tbody>\n",
       "    <tr>\n",
       "      <th>0</th>\n",
       "      <td>536365</td>\n",
       "      <td>85123A</td>\n",
       "      <td>WHITE HANGING HEART T-LIGHT HOLDER</td>\n",
       "      <td>6</td>\n",
       "      <td>2016-11-29</td>\n",
       "      <td>2.55</td>\n",
       "      <td>17850.0</td>\n",
       "      <td>United Kingdom</td>\n",
       "      <td>15.30</td>\n",
       "      <td>29</td>\n",
       "      <td>11</td>\n",
       "      <td>2016</td>\n",
       "    </tr>\n",
       "    <tr>\n",
       "      <th>1</th>\n",
       "      <td>536365</td>\n",
       "      <td>71053</td>\n",
       "      <td>WHITE METAL LANTERN</td>\n",
       "      <td>6</td>\n",
       "      <td>2016-11-29</td>\n",
       "      <td>3.39</td>\n",
       "      <td>17850.0</td>\n",
       "      <td>United Kingdom</td>\n",
       "      <td>20.34</td>\n",
       "      <td>29</td>\n",
       "      <td>11</td>\n",
       "      <td>2016</td>\n",
       "    </tr>\n",
       "    <tr>\n",
       "      <th>2</th>\n",
       "      <td>536365</td>\n",
       "      <td>84406B</td>\n",
       "      <td>CREAM CUPID HEARTS COAT HANGER</td>\n",
       "      <td>8</td>\n",
       "      <td>2016-11-29</td>\n",
       "      <td>2.75</td>\n",
       "      <td>17850.0</td>\n",
       "      <td>United Kingdom</td>\n",
       "      <td>22.00</td>\n",
       "      <td>29</td>\n",
       "      <td>11</td>\n",
       "      <td>2016</td>\n",
       "    </tr>\n",
       "    <tr>\n",
       "      <th>3</th>\n",
       "      <td>536365</td>\n",
       "      <td>84029G</td>\n",
       "      <td>KNITTED UNION FLAG HOT WATER BOTTLE</td>\n",
       "      <td>6</td>\n",
       "      <td>2016-11-29</td>\n",
       "      <td>3.39</td>\n",
       "      <td>17850.0</td>\n",
       "      <td>United Kingdom</td>\n",
       "      <td>20.34</td>\n",
       "      <td>29</td>\n",
       "      <td>11</td>\n",
       "      <td>2016</td>\n",
       "    </tr>\n",
       "    <tr>\n",
       "      <th>4</th>\n",
       "      <td>536365</td>\n",
       "      <td>84029E</td>\n",
       "      <td>RED WOOLLY HOTTIE WHITE HEART.</td>\n",
       "      <td>6</td>\n",
       "      <td>2016-11-29</td>\n",
       "      <td>3.39</td>\n",
       "      <td>17850.0</td>\n",
       "      <td>United Kingdom</td>\n",
       "      <td>20.34</td>\n",
       "      <td>29</td>\n",
       "      <td>11</td>\n",
       "      <td>2016</td>\n",
       "    </tr>\n",
       "    <tr>\n",
       "      <th>...</th>\n",
       "      <td>...</td>\n",
       "      <td>...</td>\n",
       "      <td>...</td>\n",
       "      <td>...</td>\n",
       "      <td>...</td>\n",
       "      <td>...</td>\n",
       "      <td>...</td>\n",
       "      <td>...</td>\n",
       "      <td>...</td>\n",
       "      <td>...</td>\n",
       "      <td>...</td>\n",
       "      <td>...</td>\n",
       "    </tr>\n",
       "    <tr>\n",
       "      <th>541904</th>\n",
       "      <td>581587</td>\n",
       "      <td>22613</td>\n",
       "      <td>PACK OF 20 SPACEBOY NAPKINS</td>\n",
       "      <td>12</td>\n",
       "      <td>2017-12-07</td>\n",
       "      <td>0.85</td>\n",
       "      <td>12680.0</td>\n",
       "      <td>France</td>\n",
       "      <td>10.20</td>\n",
       "      <td>7</td>\n",
       "      <td>12</td>\n",
       "      <td>2017</td>\n",
       "    </tr>\n",
       "    <tr>\n",
       "      <th>541905</th>\n",
       "      <td>581587</td>\n",
       "      <td>22899</td>\n",
       "      <td>CHILDREN'S APRON DOLLY GIRL</td>\n",
       "      <td>6</td>\n",
       "      <td>2017-12-07</td>\n",
       "      <td>2.10</td>\n",
       "      <td>12680.0</td>\n",
       "      <td>France</td>\n",
       "      <td>12.60</td>\n",
       "      <td>7</td>\n",
       "      <td>12</td>\n",
       "      <td>2017</td>\n",
       "    </tr>\n",
       "    <tr>\n",
       "      <th>541906</th>\n",
       "      <td>581587</td>\n",
       "      <td>23254</td>\n",
       "      <td>CHILDRENS CUTLERY DOLLY GIRL</td>\n",
       "      <td>4</td>\n",
       "      <td>2017-12-07</td>\n",
       "      <td>4.15</td>\n",
       "      <td>12680.0</td>\n",
       "      <td>France</td>\n",
       "      <td>16.60</td>\n",
       "      <td>7</td>\n",
       "      <td>12</td>\n",
       "      <td>2017</td>\n",
       "    </tr>\n",
       "    <tr>\n",
       "      <th>541907</th>\n",
       "      <td>581587</td>\n",
       "      <td>23255</td>\n",
       "      <td>CHILDRENS CUTLERY CIRCUS PARADE</td>\n",
       "      <td>4</td>\n",
       "      <td>2017-12-07</td>\n",
       "      <td>4.15</td>\n",
       "      <td>12680.0</td>\n",
       "      <td>France</td>\n",
       "      <td>16.60</td>\n",
       "      <td>7</td>\n",
       "      <td>12</td>\n",
       "      <td>2017</td>\n",
       "    </tr>\n",
       "    <tr>\n",
       "      <th>541908</th>\n",
       "      <td>581587</td>\n",
       "      <td>22138</td>\n",
       "      <td>BAKING SET 9 PIECE RETROSPOT</td>\n",
       "      <td>3</td>\n",
       "      <td>2017-12-07</td>\n",
       "      <td>4.95</td>\n",
       "      <td>12680.0</td>\n",
       "      <td>France</td>\n",
       "      <td>14.85</td>\n",
       "      <td>7</td>\n",
       "      <td>12</td>\n",
       "      <td>2017</td>\n",
       "    </tr>\n",
       "  </tbody>\n",
       "</table>\n",
       "<p>406829 rows × 12 columns</p>\n",
       "</div>"
      ],
      "text/plain": [
       "       invoice_no stock_code                          description  quantity  \\\n",
       "0          536365     85123A   WHITE HANGING HEART T-LIGHT HOLDER         6   \n",
       "1          536365      71053                  WHITE METAL LANTERN         6   \n",
       "2          536365     84406B       CREAM CUPID HEARTS COAT HANGER         8   \n",
       "3          536365     84029G  KNITTED UNION FLAG HOT WATER BOTTLE         6   \n",
       "4          536365     84029E       RED WOOLLY HOTTIE WHITE HEART.         6   \n",
       "...           ...        ...                                  ...       ...   \n",
       "541904     581587      22613          PACK OF 20 SPACEBOY NAPKINS        12   \n",
       "541905     581587      22899         CHILDREN'S APRON DOLLY GIRL          6   \n",
       "541906     581587      23254        CHILDRENS CUTLERY DOLLY GIRL          4   \n",
       "541907     581587      23255      CHILDRENS CUTLERY CIRCUS PARADE         4   \n",
       "541908     581587      22138        BAKING SET 9 PIECE RETROSPOT          3   \n",
       "\n",
       "       invoice_date  unit_price  customer_id         country  \\\n",
       "0        2016-11-29        2.55      17850.0  United Kingdom   \n",
       "1        2016-11-29        3.39      17850.0  United Kingdom   \n",
       "2        2016-11-29        2.75      17850.0  United Kingdom   \n",
       "3        2016-11-29        3.39      17850.0  United Kingdom   \n",
       "4        2016-11-29        3.39      17850.0  United Kingdom   \n",
       "...             ...         ...          ...             ...   \n",
       "541904   2017-12-07        0.85      12680.0          France   \n",
       "541905   2017-12-07        2.10      12680.0          France   \n",
       "541906   2017-12-07        4.15      12680.0          France   \n",
       "541907   2017-12-07        4.15      12680.0          France   \n",
       "541908   2017-12-07        4.95      12680.0          France   \n",
       "\n",
       "        total_invoice_price  invoice_day  invoice_month  invoice_year  \n",
       "0                     15.30           29             11          2016  \n",
       "1                     20.34           29             11          2016  \n",
       "2                     22.00           29             11          2016  \n",
       "3                     20.34           29             11          2016  \n",
       "4                     20.34           29             11          2016  \n",
       "...                     ...          ...            ...           ...  \n",
       "541904                10.20            7             12          2017  \n",
       "541905                12.60            7             12          2017  \n",
       "541906                16.60            7             12          2017  \n",
       "541907                16.60            7             12          2017  \n",
       "541908                14.85            7             12          2017  \n",
       "\n",
       "[406829 rows x 12 columns]"
      ]
     },
     "execution_count": 6,
     "metadata": {},
     "output_type": "execute_result"
    }
   ],
   "source": [
    "# drop missing data\n",
    "df1 = df1[df1['customer_id'].isnull() == False]\n",
    "\n",
    "# Total invoice price\n",
    "df1['total_invoice_price'] = df1['quantity'] * df1['unit_price']\n",
    "\n",
    "# Convert invoice_date to datetime\n",
    "df1['invoice_date'] = pd.to_datetime(df1['invoice_date'])\n",
    "\n",
    "# Invoice day\n",
    "df1['invoice_day'] = df1['invoice_date'].apply(lambda x: x.day)\n",
    "\n",
    "# Invoice month\n",
    "df1['invoice_month'] = df1['invoice_date'].apply(lambda x: x.month)\n",
    "\n",
    "# Invoice year\n",
    "df1['invoice_year'] = df1['invoice_date'].apply(lambda x: x.year)\n",
    "\n",
    "df1"
   ]
  },
  {
   "cell_type": "markdown",
   "id": "fee8385e",
   "metadata": {
    "hidden": true
   },
   "source": [
    "## <s>1.7 Charge Dtypes</s>"
   ]
  },
  {
   "cell_type": "markdown",
   "id": "ae839c4f",
   "metadata": {
    "heading_collapsed": true,
    "hidden": true
   },
   "source": [
    "## 1.8 Descriptive Statistical"
   ]
  },
  {
   "cell_type": "code",
   "execution_count": 7,
   "id": "b22ddc11",
   "metadata": {
    "ExecuteTime": {
     "end_time": "2023-06-20T11:31:10.703246Z",
     "start_time": "2023-06-20T11:31:10.669306Z"
    },
    "hidden": true
   },
   "outputs": [],
   "source": [
    "df_num = df1.select_dtypes(include=['int64', 'float64'])\n",
    "df_cat = df1.select_dtypes(exclude=['int64', 'float64', 'datetime64[ns]'])"
   ]
  },
  {
   "cell_type": "markdown",
   "id": "5a7beb23",
   "metadata": {
    "heading_collapsed": true,
    "hidden": true
   },
   "source": [
    "### 1.8.1 Numerical Attributes"
   ]
  },
  {
   "cell_type": "code",
   "execution_count": 8,
   "id": "a1ea5dad",
   "metadata": {
    "ExecuteTime": {
     "end_time": "2023-06-20T11:31:13.197717Z",
     "start_time": "2023-06-20T11:31:12.893381Z"
    },
    "hidden": true
   },
   "outputs": [
    {
     "data": {
      "text/html": [
       "<div>\n",
       "<style scoped>\n",
       "    .dataframe tbody tr th:only-of-type {\n",
       "        vertical-align: middle;\n",
       "    }\n",
       "\n",
       "    .dataframe tbody tr th {\n",
       "        vertical-align: top;\n",
       "    }\n",
       "\n",
       "    .dataframe thead th {\n",
       "        text-align: right;\n",
       "    }\n",
       "</style>\n",
       "<table border=\"1\" class=\"dataframe\">\n",
       "  <thead>\n",
       "    <tr style=\"text-align: right;\">\n",
       "      <th></th>\n",
       "      <th>attributes</th>\n",
       "      <th>min</th>\n",
       "      <th>max</th>\n",
       "      <th>range</th>\n",
       "      <th>mean</th>\n",
       "      <th>median</th>\n",
       "      <th>standard_deviation</th>\n",
       "      <th>skewness</th>\n",
       "      <th>kurtosis</th>\n",
       "    </tr>\n",
       "  </thead>\n",
       "  <tbody>\n",
       "    <tr>\n",
       "      <th>0</th>\n",
       "      <td>quantity</td>\n",
       "      <td>-80995.0</td>\n",
       "      <td>80995.0</td>\n",
       "      <td>161990.0</td>\n",
       "      <td>12.061303</td>\n",
       "      <td>5.00</td>\n",
       "      <td>248.693370</td>\n",
       "      <td>0.182663</td>\n",
       "      <td>94317.563673</td>\n",
       "    </tr>\n",
       "    <tr>\n",
       "      <th>1</th>\n",
       "      <td>unit_price</td>\n",
       "      <td>0.0</td>\n",
       "      <td>38970.0</td>\n",
       "      <td>38970.0</td>\n",
       "      <td>3.460471</td>\n",
       "      <td>1.95</td>\n",
       "      <td>69.315162</td>\n",
       "      <td>452.219019</td>\n",
       "      <td>246924.542988</td>\n",
       "    </tr>\n",
       "    <tr>\n",
       "      <th>2</th>\n",
       "      <td>customer_id</td>\n",
       "      <td>12346.0</td>\n",
       "      <td>18287.0</td>\n",
       "      <td>5941.0</td>\n",
       "      <td>15287.690570</td>\n",
       "      <td>15152.00</td>\n",
       "      <td>1713.600303</td>\n",
       "      <td>0.029835</td>\n",
       "      <td>-1.179982</td>\n",
       "    </tr>\n",
       "    <tr>\n",
       "      <th>3</th>\n",
       "      <td>total_invoice_price</td>\n",
       "      <td>-168469.6</td>\n",
       "      <td>168469.6</td>\n",
       "      <td>336939.2</td>\n",
       "      <td>20.401854</td>\n",
       "      <td>11.10</td>\n",
       "      <td>427.591718</td>\n",
       "      <td>-0.056982</td>\n",
       "      <td>124024.422429</td>\n",
       "    </tr>\n",
       "    <tr>\n",
       "      <th>4</th>\n",
       "      <td>invoice_day</td>\n",
       "      <td>1.0</td>\n",
       "      <td>31.0</td>\n",
       "      <td>30.0</td>\n",
       "      <td>14.999398</td>\n",
       "      <td>15.00</td>\n",
       "      <td>8.797426</td>\n",
       "      <td>0.122230</td>\n",
       "      <td>-1.194347</td>\n",
       "    </tr>\n",
       "    <tr>\n",
       "      <th>5</th>\n",
       "      <td>invoice_month</td>\n",
       "      <td>1.0</td>\n",
       "      <td>12.0</td>\n",
       "      <td>11.0</td>\n",
       "      <td>7.541259</td>\n",
       "      <td>8.00</td>\n",
       "      <td>3.409613</td>\n",
       "      <td>-0.451482</td>\n",
       "      <td>-1.069259</td>\n",
       "    </tr>\n",
       "    <tr>\n",
       "      <th>6</th>\n",
       "      <td>invoice_year</td>\n",
       "      <td>2016.0</td>\n",
       "      <td>2017.0</td>\n",
       "      <td>1.0</td>\n",
       "      <td>2016.934002</td>\n",
       "      <td>2017.00</td>\n",
       "      <td>0.248279</td>\n",
       "      <td>-3.496094</td>\n",
       "      <td>10.222720</td>\n",
       "    </tr>\n",
       "  </tbody>\n",
       "</table>\n",
       "</div>"
      ],
      "text/plain": [
       "            attributes       min       max     range          mean    median  \\\n",
       "0             quantity  -80995.0   80995.0  161990.0     12.061303      5.00   \n",
       "1           unit_price       0.0   38970.0   38970.0      3.460471      1.95   \n",
       "2          customer_id   12346.0   18287.0    5941.0  15287.690570  15152.00   \n",
       "3  total_invoice_price -168469.6  168469.6  336939.2     20.401854     11.10   \n",
       "4          invoice_day       1.0      31.0      30.0     14.999398     15.00   \n",
       "5        invoice_month       1.0      12.0      11.0      7.541259      8.00   \n",
       "6         invoice_year    2016.0    2017.0       1.0   2016.934002   2017.00   \n",
       "\n",
       "   standard_deviation    skewness       kurtosis  \n",
       "0          248.693370    0.182663   94317.563673  \n",
       "1           69.315162  452.219019  246924.542988  \n",
       "2         1713.600303    0.029835      -1.179982  \n",
       "3          427.591718   -0.056982  124024.422429  \n",
       "4            8.797426    0.122230      -1.194347  \n",
       "5            3.409613   -0.451482      -1.069259  \n",
       "6            0.248279   -3.496094      10.222720  "
      ]
     },
     "execution_count": 8,
     "metadata": {},
     "output_type": "execute_result"
    }
   ],
   "source": [
    "d1 = pd.DataFrame (df_num.min()).T\n",
    "d2 = pd.DataFrame (df_num.max()).T\n",
    "d3 = pd.DataFrame (df_num.max() - df_num.min()).T\n",
    "d4 = pd.DataFrame (df_num.mean()).T\n",
    "d5 = pd.DataFrame (df_num.median()).T\n",
    "d6 = pd.DataFrame (df_num.std()).T\n",
    "d7 = pd.DataFrame (df_num.skew()).T\n",
    "d8 = pd.DataFrame (df_num.kurt()).T\n",
    "\n",
    "df_num = pd.concat([d1, d2, d3, d4, d5, d6, d7, d8]).T.reset_index()\n",
    "df_num.columns = ['attributes', 'min', 'max', 'range', 'mean', 'median', 'standard_deviation', 'skewness', 'kurtosis']\n",
    "\n",
    "df_num\n"
   ]
  },
  {
   "cell_type": "code",
   "execution_count": 9,
   "id": "3e70a0f4",
   "metadata": {
    "ExecuteTime": {
     "end_time": "2023-06-20T11:31:15.516412Z",
     "start_time": "2023-06-20T11:31:15.437623Z"
    },
    "hidden": true
   },
   "outputs": [
    {
     "data": {
      "text/html": [
       "<div>\n",
       "<style scoped>\n",
       "    .dataframe tbody tr th:only-of-type {\n",
       "        vertical-align: middle;\n",
       "    }\n",
       "\n",
       "    .dataframe tbody tr th {\n",
       "        vertical-align: top;\n",
       "    }\n",
       "\n",
       "    .dataframe thead th {\n",
       "        text-align: right;\n",
       "    }\n",
       "</style>\n",
       "<table border=\"1\" class=\"dataframe\">\n",
       "  <thead>\n",
       "    <tr style=\"text-align: right;\">\n",
       "      <th></th>\n",
       "      <th>count</th>\n",
       "      <th>mean</th>\n",
       "      <th>std</th>\n",
       "      <th>min</th>\n",
       "      <th>25%</th>\n",
       "      <th>50%</th>\n",
       "      <th>75%</th>\n",
       "      <th>max</th>\n",
       "    </tr>\n",
       "  </thead>\n",
       "  <tbody>\n",
       "    <tr>\n",
       "      <th>min</th>\n",
       "      <td>7.0</td>\n",
       "      <td>-33585.800000</td>\n",
       "      <td>67333.303290</td>\n",
       "      <td>-168469.600000</td>\n",
       "      <td>-40497.500000</td>\n",
       "      <td>1.000000</td>\n",
       "      <td>1008.500000</td>\n",
       "      <td>12346.000000</td>\n",
       "    </tr>\n",
       "    <tr>\n",
       "      <th>max</th>\n",
       "      <td>7.0</td>\n",
       "      <td>44111.657143</td>\n",
       "      <td>62153.670770</td>\n",
       "      <td>12.000000</td>\n",
       "      <td>1024.000000</td>\n",
       "      <td>18287.000000</td>\n",
       "      <td>59982.500000</td>\n",
       "      <td>168469.600000</td>\n",
       "    </tr>\n",
       "    <tr>\n",
       "      <th>range</th>\n",
       "      <td>7.0</td>\n",
       "      <td>77697.457143</td>\n",
       "      <td>128494.149072</td>\n",
       "      <td>1.000000</td>\n",
       "      <td>20.500000</td>\n",
       "      <td>5941.000000</td>\n",
       "      <td>100480.000000</td>\n",
       "      <td>336939.200000</td>\n",
       "    </tr>\n",
       "    <tr>\n",
       "      <th>mean</th>\n",
       "      <td>7.0</td>\n",
       "      <td>2480.441265</td>\n",
       "      <td>5696.698447</td>\n",
       "      <td>3.460471</td>\n",
       "      <td>9.801281</td>\n",
       "      <td>14.999398</td>\n",
       "      <td>1018.667928</td>\n",
       "      <td>15287.690570</td>\n",
       "    </tr>\n",
       "    <tr>\n",
       "      <th>median</th>\n",
       "      <td>7.0</td>\n",
       "      <td>2458.578571</td>\n",
       "      <td>5647.116873</td>\n",
       "      <td>1.950000</td>\n",
       "      <td>6.500000</td>\n",
       "      <td>11.100000</td>\n",
       "      <td>1016.000000</td>\n",
       "      <td>15152.000000</td>\n",
       "    </tr>\n",
       "    <tr>\n",
       "      <th>standard_deviation</th>\n",
       "      <td>7.0</td>\n",
       "      <td>353.093696</td>\n",
       "      <td>620.923591</td>\n",
       "      <td>0.248279</td>\n",
       "      <td>6.103519</td>\n",
       "      <td>69.315162</td>\n",
       "      <td>338.142544</td>\n",
       "      <td>1713.600303</td>\n",
       "    </tr>\n",
       "    <tr>\n",
       "      <th>skewness</th>\n",
       "      <td>7.0</td>\n",
       "      <td>64.078456</td>\n",
       "      <td>171.158884</td>\n",
       "      <td>-3.496094</td>\n",
       "      <td>-0.254232</td>\n",
       "      <td>0.029835</td>\n",
       "      <td>0.152446</td>\n",
       "      <td>452.219019</td>\n",
       "    </tr>\n",
       "    <tr>\n",
       "      <th>kurtosis</th>\n",
       "      <td>7.0</td>\n",
       "      <td>66467.615460</td>\n",
       "      <td>95152.494169</td>\n",
       "      <td>-1.194347</td>\n",
       "      <td>-1.124621</td>\n",
       "      <td>10.222720</td>\n",
       "      <td>109170.993051</td>\n",
       "      <td>246924.542988</td>\n",
       "    </tr>\n",
       "  </tbody>\n",
       "</table>\n",
       "</div>"
      ],
      "text/plain": [
       "                    count          mean            std            min  \\\n",
       "min                   7.0 -33585.800000   67333.303290 -168469.600000   \n",
       "max                   7.0  44111.657143   62153.670770      12.000000   \n",
       "range                 7.0  77697.457143  128494.149072       1.000000   \n",
       "mean                  7.0   2480.441265    5696.698447       3.460471   \n",
       "median                7.0   2458.578571    5647.116873       1.950000   \n",
       "standard_deviation    7.0    353.093696     620.923591       0.248279   \n",
       "skewness              7.0     64.078456     171.158884      -3.496094   \n",
       "kurtosis              7.0  66467.615460   95152.494169      -1.194347   \n",
       "\n",
       "                             25%           50%            75%            max  \n",
       "min                -40497.500000      1.000000    1008.500000   12346.000000  \n",
       "max                  1024.000000  18287.000000   59982.500000  168469.600000  \n",
       "range                  20.500000   5941.000000  100480.000000  336939.200000  \n",
       "mean                    9.801281     14.999398    1018.667928   15287.690570  \n",
       "median                  6.500000     11.100000    1016.000000   15152.000000  \n",
       "standard_deviation      6.103519     69.315162     338.142544    1713.600303  \n",
       "skewness               -0.254232      0.029835       0.152446     452.219019  \n",
       "kurtosis               -1.124621     10.222720  109170.993051  246924.542988  "
      ]
     },
     "execution_count": 9,
     "metadata": {},
     "output_type": "execute_result"
    }
   ],
   "source": [
    "df_num.describe().T"
   ]
  },
  {
   "cell_type": "markdown",
   "id": "ab31d6bc",
   "metadata": {
    "heading_collapsed": true,
    "hidden": true
   },
   "source": [
    "### 1.8.2 Descriptive Attributes"
   ]
  },
  {
   "cell_type": "code",
   "execution_count": 10,
   "id": "598cd3a8",
   "metadata": {
    "ExecuteTime": {
     "end_time": "2023-06-20T11:31:43.798635Z",
     "start_time": "2023-06-20T11:31:43.620072Z"
    },
    "hidden": true
   },
   "outputs": [
    {
     "data": {
      "text/plain": [
       "invoice_no     22190\n",
       "stock_code      3684\n",
       "description     3896\n",
       "country           37\n",
       "dtype: int64"
      ]
     },
     "execution_count": 10,
     "metadata": {},
     "output_type": "execute_result"
    }
   ],
   "source": [
    "df_cat.apply(lambda x: x.unique().shape[0])"
   ]
  },
  {
   "cell_type": "markdown",
   "id": "1d6d20ea",
   "metadata": {},
   "source": [
    "# 2. RFM"
   ]
  },
  {
   "cell_type": "code",
   "execution_count": 303,
   "id": "0dea0791",
   "metadata": {
    "ExecuteTime": {
     "end_time": "2023-06-23T11:59:47.197133Z",
     "start_time": "2023-06-23T11:59:47.170207Z"
    }
   },
   "outputs": [],
   "source": [
    "df2 = df1.copy()"
   ]
  },
  {
   "cell_type": "code",
   "execution_count": 304,
   "id": "7101b2e0",
   "metadata": {
    "ExecuteTime": {
     "end_time": "2023-06-23T11:59:47.260718Z",
     "start_time": "2023-06-23T11:59:47.202121Z"
    }
   },
   "outputs": [],
   "source": [
    "df2 = df2[(df2['invoice_year'] == 2017) \n",
    "          & (df2['invoice_month'] >= 10) \n",
    "          & (df2['invoice_month'] < 12)].reset_index(drop=True)"
   ]
  },
  {
   "cell_type": "markdown",
   "id": "0a8e6d03",
   "metadata": {},
   "source": [
    "## 2.1 Create user DataFrame"
   ]
  },
  {
   "cell_type": "code",
   "execution_count": 306,
   "id": "3573207b",
   "metadata": {
    "ExecuteTime": {
     "end_time": "2023-06-23T11:59:58.911944Z",
     "start_time": "2023-06-23T11:59:58.784552Z"
    }
   },
   "outputs": [
    {
     "data": {
      "text/html": [
       "<div>\n",
       "<style scoped>\n",
       "    .dataframe tbody tr th:only-of-type {\n",
       "        vertical-align: middle;\n",
       "    }\n",
       "\n",
       "    .dataframe tbody tr th {\n",
       "        vertical-align: top;\n",
       "    }\n",
       "\n",
       "    .dataframe thead th {\n",
       "        text-align: right;\n",
       "    }\n",
       "</style>\n",
       "<table border=\"1\" class=\"dataframe\">\n",
       "  <thead>\n",
       "    <tr style=\"text-align: right;\">\n",
       "      <th></th>\n",
       "      <th>customer_id</th>\n",
       "      <th>invoice_date</th>\n",
       "      <th>invoice_date_count</th>\n",
       "      <th>total_invoice_price</th>\n",
       "    </tr>\n",
       "  </thead>\n",
       "  <tbody>\n",
       "    <tr>\n",
       "      <th>0</th>\n",
       "      <td>12347.0</td>\n",
       "      <td>2017-10-29</td>\n",
       "      <td>47</td>\n",
       "      <td>1294.32</td>\n",
       "    </tr>\n",
       "    <tr>\n",
       "      <th>1</th>\n",
       "      <td>12349.0</td>\n",
       "      <td>2017-11-19</td>\n",
       "      <td>73</td>\n",
       "      <td>1757.55</td>\n",
       "    </tr>\n",
       "    <tr>\n",
       "      <th>2</th>\n",
       "      <td>12352.0</td>\n",
       "      <td>2017-11-01</td>\n",
       "      <td>15</td>\n",
       "      <td>311.73</td>\n",
       "    </tr>\n",
       "    <tr>\n",
       "      <th>3</th>\n",
       "      <td>12356.0</td>\n",
       "      <td>2017-11-15</td>\n",
       "      <td>2</td>\n",
       "      <td>58.35</td>\n",
       "    </tr>\n",
       "    <tr>\n",
       "      <th>4</th>\n",
       "      <td>12357.0</td>\n",
       "      <td>2017-11-04</td>\n",
       "      <td>131</td>\n",
       "      <td>6207.67</td>\n",
       "    </tr>\n",
       "  </tbody>\n",
       "</table>\n",
       "</div>"
      ],
      "text/plain": [
       "   customer_id invoice_date  invoice_date_count  total_invoice_price\n",
       "0      12347.0   2017-10-29                  47              1294.32\n",
       "1      12349.0   2017-11-19                  73              1757.55\n",
       "2      12352.0   2017-11-01                  15               311.73\n",
       "3      12356.0   2017-11-15                   2                58.35\n",
       "4      12357.0   2017-11-04                 131              6207.67"
      ]
     },
     "execution_count": 306,
     "metadata": {},
     "output_type": "execute_result"
    }
   ],
   "source": [
    "# recency\n",
    "aux1 = df2[['customer_id', 'invoice_date']].groupby('customer_id').max().reset_index()\n",
    "\n",
    "# frequency\n",
    "aux2 = df2[['customer_id', 'invoice_no','invoice_date']].groupby(['customer_id', 'invoice_no']).count().reset_index()[['customer_id', 'invoice_date']]\n",
    "aux2.columns = ['customer_id', 'invoice_date_count']\n",
    "\n",
    "# Monetary\n",
    "aux3 = df2[['customer_id', 'total_invoice_price']].groupby('customer_id').sum()\n",
    "\n",
    "# Join DataFrames\n",
    "df_customer = pd.merge(aux1, aux2, on='customer_id')\n",
    "df_customer = pd.merge(df_customer, aux3, on='customer_id')\n",
    "\n",
    "df_customer.head()"
   ]
  },
  {
   "cell_type": "markdown",
   "id": "d0474403",
   "metadata": {},
   "source": [
    "## 2.2 RFM (recency, frequency, monetary)"
   ]
  },
  {
   "cell_type": "code",
   "execution_count": 307,
   "id": "9a2ae8de",
   "metadata": {
    "ExecuteTime": {
     "end_time": "2023-06-23T11:59:59.383595Z",
     "start_time": "2023-06-23T11:59:58.915897Z"
    }
   },
   "outputs": [],
   "source": [
    "# recency rank\n",
    "df_customer = df_customer.sort_values('invoice_date', ascending=False).reset_index(drop=True)\n",
    "df_customer['recency'] = 0\n",
    "\n",
    "for i in range(len(df_customer)):\n",
    "    if i <= (len(df_customer)*.2):\n",
    "        df_customer.loc[i, 'recency'] = 5\n",
    "        continue\n",
    "    if i <= (len(df_customer)*.4):\n",
    "        df_customer.loc[i, 'recency'] = 4\n",
    "        continue\n",
    "    if i <= (len(df_customer)*.6):\n",
    "        df_customer.loc[i, 'recency'] = 3\n",
    "        continue\n",
    "    if i <= (len(df_customer)*.8):\n",
    "        df_customer.loc[i, 'recency'] = 2\n",
    "        continue\n",
    "    else:\n",
    "        df_customer.loc[i, 'recency'] = 1"
   ]
  },
  {
   "cell_type": "code",
   "execution_count": 308,
   "id": "149c030d",
   "metadata": {
    "ExecuteTime": {
     "end_time": "2023-06-23T11:59:59.829986Z",
     "start_time": "2023-06-23T11:59:59.385594Z"
    }
   },
   "outputs": [],
   "source": [
    "# Frequency rank\n",
    "df_customer = df_customer.sort_values('invoice_date_count', ascending=False).reset_index(drop=True)\n",
    "df_customer['frequency'] = 0\n",
    "\n",
    "for i in range(len(df_customer)):\n",
    "    if i <= (len(df_customer)*.2):\n",
    "        df_customer.loc[i, 'frequency'] = 5\n",
    "        continue\n",
    "    if i <= (len(df_customer)*.4):\n",
    "        df_customer.loc[i, 'frequency'] = 4\n",
    "        continue\n",
    "    if i <= (len(df_customer)*.6):\n",
    "        df_customer.loc[i, 'frequency'] = 3\n",
    "        continue\n",
    "    if i <= (len(df_customer)*.8):\n",
    "        df_customer.loc[i, 'frequency'] = 2\n",
    "        continue\n",
    "    else:\n",
    "        df_customer.loc[i, 'frequency'] = 1"
   ]
  },
  {
   "cell_type": "code",
   "execution_count": 309,
   "id": "0ae94d81",
   "metadata": {
    "ExecuteTime": {
     "end_time": "2023-06-23T12:00:00.302696Z",
     "start_time": "2023-06-23T11:59:59.837907Z"
    },
    "scrolled": true
   },
   "outputs": [],
   "source": [
    "# Monetary rank\n",
    "df_customer = df_customer.sort_values('total_invoice_price', ascending=False).reset_index(drop=True)\n",
    "df_customer['monetary'] = 0\n",
    "\n",
    "for i in range(len(df_customer)):\n",
    "    if i <= (len(df_customer)*.2):\n",
    "        df_customer.loc[i, 'monetary'] = 5\n",
    "        continue\n",
    "    if i <= (len(df_customer)*.4):\n",
    "        df_customer.loc[i, 'monetary'] = 4\n",
    "        continue\n",
    "    if i <= (len(df_customer)*.6):\n",
    "        df_customer.loc[i, 'monetary'] = 3\n",
    "        continue\n",
    "    if i <= (len(df_customer)*.8):\n",
    "        df_customer.loc[i, 'monetary'] = 2\n",
    "        continue\n",
    "    else:\n",
    "        df_customer.loc[i, 'monetary'] = 1"
   ]
  },
  {
   "cell_type": "code",
   "execution_count": 310,
   "id": "2bb212dc",
   "metadata": {
    "ExecuteTime": {
     "end_time": "2023-06-23T12:00:00.318176Z",
     "start_time": "2023-06-23T12:00:00.307648Z"
    }
   },
   "outputs": [],
   "source": [
    "df_customer['total_rank'] = df_customer['recency'] + df_customer['frequency'] + df_customer['monetary']"
   ]
  },
  {
   "cell_type": "code",
   "execution_count": null,
   "id": "3c59d8d3",
   "metadata": {},
   "outputs": [],
   "source": []
  },
  {
   "cell_type": "code",
   "execution_count": 311,
   "id": "830ac2d5",
   "metadata": {
    "ExecuteTime": {
     "end_time": "2023-06-23T12:00:01.528381Z",
     "start_time": "2023-06-23T12:00:00.323168Z"
    }
   },
   "outputs": [
    {
     "data": {
      "text/html": [
       "<div>\n",
       "<style scoped>\n",
       "    .dataframe tbody tr th:only-of-type {\n",
       "        vertical-align: middle;\n",
       "    }\n",
       "\n",
       "    .dataframe tbody tr th {\n",
       "        vertical-align: top;\n",
       "    }\n",
       "\n",
       "    .dataframe thead th {\n",
       "        text-align: right;\n",
       "    }\n",
       "</style>\n",
       "<table border=\"1\" class=\"dataframe\">\n",
       "  <thead>\n",
       "    <tr style=\"text-align: right;\">\n",
       "      <th></th>\n",
       "      <th>customer_id</th>\n",
       "      <th>invoice_date</th>\n",
       "      <th>invoice_date_count</th>\n",
       "      <th>total_invoice_price</th>\n",
       "      <th>recency</th>\n",
       "      <th>frequency</th>\n",
       "      <th>monetary</th>\n",
       "      <th>total_rank</th>\n",
       "      <th>class</th>\n",
       "    </tr>\n",
       "  </thead>\n",
       "  <tbody>\n",
       "    <tr>\n",
       "      <th>0</th>\n",
       "      <td>18102.0</td>\n",
       "      <td>2017-11-26</td>\n",
       "      <td>14</td>\n",
       "      <td>68012.35</td>\n",
       "      <td>4</td>\n",
       "      <td>3</td>\n",
       "      <td>5</td>\n",
       "      <td>12</td>\n",
       "      <td>potential_loyal</td>\n",
       "    </tr>\n",
       "    <tr>\n",
       "      <th>1</th>\n",
       "      <td>18102.0</td>\n",
       "      <td>2017-11-26</td>\n",
       "      <td>1</td>\n",
       "      <td>68012.35</td>\n",
       "      <td>4</td>\n",
       "      <td>1</td>\n",
       "      <td>5</td>\n",
       "      <td>10</td>\n",
       "      <td>promissing</td>\n",
       "    </tr>\n",
       "    <tr>\n",
       "      <th>2</th>\n",
       "      <td>18102.0</td>\n",
       "      <td>2017-11-26</td>\n",
       "      <td>4</td>\n",
       "      <td>68012.35</td>\n",
       "      <td>4</td>\n",
       "      <td>2</td>\n",
       "      <td>5</td>\n",
       "      <td>11</td>\n",
       "      <td>potential_loyal</td>\n",
       "    </tr>\n",
       "    <tr>\n",
       "      <th>3</th>\n",
       "      <td>18102.0</td>\n",
       "      <td>2017-11-26</td>\n",
       "      <td>7</td>\n",
       "      <td>68012.35</td>\n",
       "      <td>4</td>\n",
       "      <td>2</td>\n",
       "      <td>5</td>\n",
       "      <td>11</td>\n",
       "      <td>potential_loyal</td>\n",
       "    </tr>\n",
       "    <tr>\n",
       "      <th>4</th>\n",
       "      <td>18102.0</td>\n",
       "      <td>2017-11-26</td>\n",
       "      <td>11</td>\n",
       "      <td>68012.35</td>\n",
       "      <td>4</td>\n",
       "      <td>3</td>\n",
       "      <td>5</td>\n",
       "      <td>12</td>\n",
       "      <td>potential_loyal</td>\n",
       "    </tr>\n",
       "    <tr>\n",
       "      <th>...</th>\n",
       "      <td>...</td>\n",
       "      <td>...</td>\n",
       "      <td>...</td>\n",
       "      <td>...</td>\n",
       "      <td>...</td>\n",
       "      <td>...</td>\n",
       "      <td>...</td>\n",
       "      <td>...</td>\n",
       "      <td>...</td>\n",
       "    </tr>\n",
       "    <tr>\n",
       "      <th>5597</th>\n",
       "      <td>15365.0</td>\n",
       "      <td>2017-11-12</td>\n",
       "      <td>36</td>\n",
       "      <td>-614.70</td>\n",
       "      <td>2</td>\n",
       "      <td>5</td>\n",
       "      <td>1</td>\n",
       "      <td>8</td>\n",
       "      <td>at_risk</td>\n",
       "    </tr>\n",
       "    <tr>\n",
       "      <th>5598</th>\n",
       "      <td>15365.0</td>\n",
       "      <td>2017-11-12</td>\n",
       "      <td>11</td>\n",
       "      <td>-614.70</td>\n",
       "      <td>2</td>\n",
       "      <td>3</td>\n",
       "      <td>1</td>\n",
       "      <td>6</td>\n",
       "      <td>at_risk</td>\n",
       "    </tr>\n",
       "    <tr>\n",
       "      <th>5599</th>\n",
       "      <td>15365.0</td>\n",
       "      <td>2017-11-12</td>\n",
       "      <td>1</td>\n",
       "      <td>-614.70</td>\n",
       "      <td>2</td>\n",
       "      <td>1</td>\n",
       "      <td>1</td>\n",
       "      <td>4</td>\n",
       "      <td>lost</td>\n",
       "    </tr>\n",
       "    <tr>\n",
       "      <th>5600</th>\n",
       "      <td>15365.0</td>\n",
       "      <td>2017-11-12</td>\n",
       "      <td>1</td>\n",
       "      <td>-614.70</td>\n",
       "      <td>2</td>\n",
       "      <td>1</td>\n",
       "      <td>1</td>\n",
       "      <td>4</td>\n",
       "      <td>lost</td>\n",
       "    </tr>\n",
       "    <tr>\n",
       "      <th>5601</th>\n",
       "      <td>14557.0</td>\n",
       "      <td>2017-10-04</td>\n",
       "      <td>16</td>\n",
       "      <td>-788.38</td>\n",
       "      <td>1</td>\n",
       "      <td>3</td>\n",
       "      <td>1</td>\n",
       "      <td>5</td>\n",
       "      <td>at_risk</td>\n",
       "    </tr>\n",
       "  </tbody>\n",
       "</table>\n",
       "<p>5602 rows × 9 columns</p>\n",
       "</div>"
      ],
      "text/plain": [
       "      customer_id invoice_date  invoice_date_count  total_invoice_price  \\\n",
       "0         18102.0   2017-11-26                  14             68012.35   \n",
       "1         18102.0   2017-11-26                   1             68012.35   \n",
       "2         18102.0   2017-11-26                   4             68012.35   \n",
       "3         18102.0   2017-11-26                   7             68012.35   \n",
       "4         18102.0   2017-11-26                  11             68012.35   \n",
       "...           ...          ...                 ...                  ...   \n",
       "5597      15365.0   2017-11-12                  36              -614.70   \n",
       "5598      15365.0   2017-11-12                  11              -614.70   \n",
       "5599      15365.0   2017-11-12                   1              -614.70   \n",
       "5600      15365.0   2017-11-12                   1              -614.70   \n",
       "5601      14557.0   2017-10-04                  16              -788.38   \n",
       "\n",
       "      recency  frequency  monetary  total_rank            class  \n",
       "0           4          3         5          12  potential_loyal  \n",
       "1           4          1         5          10       promissing  \n",
       "2           4          2         5          11  potential_loyal  \n",
       "3           4          2         5          11  potential_loyal  \n",
       "4           4          3         5          12  potential_loyal  \n",
       "...       ...        ...       ...         ...              ...  \n",
       "5597        2          5         1           8          at_risk  \n",
       "5598        2          3         1           6          at_risk  \n",
       "5599        2          1         1           4             lost  \n",
       "5600        2          1         1           4             lost  \n",
       "5601        1          3         1           5          at_risk  \n",
       "\n",
       "[5602 rows x 9 columns]"
      ]
     },
     "execution_count": 311,
     "metadata": {},
     "output_type": "execute_result"
    }
   ],
   "source": [
    "df_customer['class'] = '0'\n",
    "for i in range(len(df_customer)):\n",
    "    if df_customer.loc[i, 'recency'] == 5 and df_customer.loc[i, 'frequency'] == 5:\n",
    "        df_customer.loc[i, 'class'] = 'champion'\n",
    "        continue\n",
    "    if 3 <= df_customer.loc[i, 'recency'] <= 4 and 4 <= df_customer.loc[i, 'frequency'] <= 5:\n",
    "        df_customer.loc[i, 'class'] = 'loyal_customer'\n",
    "        continue\n",
    "    if 4 <= df_customer.loc[i, 'recency'] <= 5 and 2 <= df_customer.loc[i, 'frequency'] <= 4:\n",
    "        df_customer.loc[i, 'class'] = 'potential_loyal'\n",
    "        continue\n",
    "    if df_customer.loc[i, 'recency'] == 5 and df_customer.loc[i, 'frequency'] == 1:\n",
    "        df_customer.loc[i, 'class'] = 'new_customer'\n",
    "        continue\n",
    "    if df_customer.loc[i, 'recency'] == 4 and df_customer.loc[i, 'frequency'] == 1:\n",
    "        df_customer.loc[i, 'class'] = 'promissing'\n",
    "        continue\n",
    "    if df_customer.loc[i, 'recency'] == 3 and 1 <= df_customer.loc[i, 'frequency'] <= 2:\n",
    "        df_customer.loc[i, 'class'] = 'abount_to_sleep'\n",
    "        continue\n",
    "    if df_customer.loc[i, 'recency'] == 3 and df_customer.loc[i, 'frequency'] == 3:\n",
    "        df_customer.loc[i, 'class'] = 'need_attention'\n",
    "        continue\n",
    "    if df_customer.loc[i, 'recency'] == 2 and df_customer.loc[i, 'frequency'] == 2:\n",
    "        df_customer.loc[i, 'class'] = 'hibernation'\n",
    "        continue\n",
    "    if df_customer.loc[i, 'recency'] <= 2 and df_customer.loc[i, 'frequency'] <= 2:\n",
    "        df_customer.loc[i, 'class'] = 'lost'\n",
    "        continue\n",
    "    if df_customer.loc[i, 'recency'] == 1 and df_customer.loc[i, 'frequency'] == 5:\n",
    "        df_customer.loc[i, 'class'] = 'don_not_lose_then'\n",
    "        continue\n",
    "    if 1 <= df_customer.loc[i, 'recency'] <= 2 and 3 <= df_customer.loc[i, 'frequency'] <= 5:\n",
    "        df_customer.loc[i, 'class'] = 'at_risk'\n",
    "        continue\n",
    "        \n",
    "df_customer"
   ]
  },
  {
   "cell_type": "code",
   "execution_count": 312,
   "id": "cf1b8bc1",
   "metadata": {
    "ExecuteTime": {
     "end_time": "2023-06-23T12:00:01.543378Z",
     "start_time": "2023-06-23T12:00:01.531374Z"
    }
   },
   "outputs": [],
   "source": [
    "result = df_customer.groupby('class')['total_invoice_price'].mean().reset_index().sort_values('total_invoice_price', ascending=False)"
   ]
  },
  {
   "cell_type": "code",
   "execution_count": 313,
   "id": "5855dd0c",
   "metadata": {
    "ExecuteTime": {
     "end_time": "2023-06-23T12:00:02.259952Z",
     "start_time": "2023-06-23T12:00:01.547332Z"
    },
    "scrolled": true
   },
   "outputs": [
    {
     "data": {
      "text/plain": [
       "<AxesSubplot:xlabel='class', ylabel='total_invoice_price'>"
      ]
     },
     "execution_count": 313,
     "metadata": {},
     "output_type": "execute_result"
    },
    {
     "data": {
      "image/png": "[encoded data removed]",
      "text/plain": [
       "<Figure size 1224x504 with 1 Axes>"
      ]
     },
     "metadata": {},
     "output_type": "display_data"
    }
   ],
   "source": [
    "sns.set(rc={'figure.figsize':(17,7)})\n",
    "sns.barplot(data=df_customer, x='class', y='total_invoice_price', order=result['class'])"
   ]
  },
  {
   "cell_type": "code",
   "execution_count": 314,
   "id": "c6e16a1b",
   "metadata": {
    "ExecuteTime": {
     "end_time": "2023-06-23T12:00:02.280372Z",
     "start_time": "2023-06-23T12:00:02.262943Z"
    }
   },
   "outputs": [
    {
     "data": {
      "text/html": [
       "<div>\n",
       "<style scoped>\n",
       "    .dataframe tbody tr th:only-of-type {\n",
       "        vertical-align: middle;\n",
       "    }\n",
       "\n",
       "    .dataframe tbody tr th {\n",
       "        vertical-align: top;\n",
       "    }\n",
       "\n",
       "    .dataframe thead th {\n",
       "        text-align: right;\n",
       "    }\n",
       "</style>\n",
       "<table border=\"1\" class=\"dataframe\">\n",
       "  <thead>\n",
       "    <tr style=\"text-align: right;\">\n",
       "      <th></th>\n",
       "      <th>class</th>\n",
       "      <th>total_invoice_price</th>\n",
       "    </tr>\n",
       "  </thead>\n",
       "  <tbody>\n",
       "    <tr>\n",
       "      <th>0</th>\n",
       "      <td>champion</td>\n",
       "      <td>9376.259073</td>\n",
       "    </tr>\n",
       "    <tr>\n",
       "      <th>1</th>\n",
       "      <td>promissing</td>\n",
       "      <td>5283.104416</td>\n",
       "    </tr>\n",
       "    <tr>\n",
       "      <th>2</th>\n",
       "      <td>new_customer</td>\n",
       "      <td>5187.215929</td>\n",
       "    </tr>\n",
       "    <tr>\n",
       "      <th>3</th>\n",
       "      <td>potential_loyal</td>\n",
       "      <td>4882.218956</td>\n",
       "    </tr>\n",
       "    <tr>\n",
       "      <th>4</th>\n",
       "      <td>abount_to_sleep</td>\n",
       "      <td>3414.902828</td>\n",
       "    </tr>\n",
       "    <tr>\n",
       "      <th>5</th>\n",
       "      <td>need_attention</td>\n",
       "      <td>2818.623640</td>\n",
       "    </tr>\n",
       "    <tr>\n",
       "      <th>6</th>\n",
       "      <td>loyal_customer</td>\n",
       "      <td>2745.944671</td>\n",
       "    </tr>\n",
       "    <tr>\n",
       "      <th>7</th>\n",
       "      <td>lost</td>\n",
       "      <td>985.953412</td>\n",
       "    </tr>\n",
       "    <tr>\n",
       "      <th>8</th>\n",
       "      <td>don_not_lose_then</td>\n",
       "      <td>887.840449</td>\n",
       "    </tr>\n",
       "    <tr>\n",
       "      <th>9</th>\n",
       "      <td>hibernation</td>\n",
       "      <td>852.403247</td>\n",
       "    </tr>\n",
       "    <tr>\n",
       "      <th>10</th>\n",
       "      <td>at_risk</td>\n",
       "      <td>724.993460</td>\n",
       "    </tr>\n",
       "  </tbody>\n",
       "</table>\n",
       "</div>"
      ],
      "text/plain": [
       "                class  total_invoice_price\n",
       "0            champion          9376.259073\n",
       "1          promissing          5283.104416\n",
       "2        new_customer          5187.215929\n",
       "3     potential_loyal          4882.218956\n",
       "4     abount_to_sleep          3414.902828\n",
       "5      need_attention          2818.623640\n",
       "6      loyal_customer          2745.944671\n",
       "7                lost           985.953412\n",
       "8   don_not_lose_then           887.840449\n",
       "9         hibernation           852.403247\n",
       "10            at_risk           724.993460"
      ]
     },
     "execution_count": 314,
     "metadata": {},
     "output_type": "execute_result"
    }
   ],
   "source": [
    "df_customer[['class', 'total_invoice_price']].groupby('class').mean().sort_values('total_invoice_price', ascending=False).reset_index()"
   ]
  },
  {
   "cell_type": "code",
   "execution_count": 315,
   "id": "b89d03d1",
   "metadata": {
    "ExecuteTime": {
     "end_time": "2023-06-23T12:00:02.325946Z",
     "start_time": "2023-06-23T12:00:02.289087Z"
    }
   },
   "outputs": [
    {
     "data": {
      "text/html": [
       "<div>\n",
       "<style scoped>\n",
       "    .dataframe tbody tr th:only-of-type {\n",
       "        vertical-align: middle;\n",
       "    }\n",
       "\n",
       "    .dataframe tbody tr th {\n",
       "        vertical-align: top;\n",
       "    }\n",
       "\n",
       "    .dataframe thead th {\n",
       "        text-align: right;\n",
       "    }\n",
       "</style>\n",
       "<table border=\"1\" class=\"dataframe\">\n",
       "  <thead>\n",
       "    <tr style=\"text-align: right;\">\n",
       "      <th></th>\n",
       "      <th>class</th>\n",
       "      <th>customer_id</th>\n",
       "      <th>%</th>\n",
       "    </tr>\n",
       "  </thead>\n",
       "  <tbody>\n",
       "    <tr>\n",
       "      <th>0</th>\n",
       "      <td>at_risk</td>\n",
       "      <td>1162</td>\n",
       "      <td>0.207426</td>\n",
       "    </tr>\n",
       "    <tr>\n",
       "      <th>1</th>\n",
       "      <td>potential_loyal</td>\n",
       "      <td>1102</td>\n",
       "      <td>0.196715</td>\n",
       "    </tr>\n",
       "    <tr>\n",
       "      <th>2</th>\n",
       "      <td>loyal_customer</td>\n",
       "      <td>897</td>\n",
       "      <td>0.160121</td>\n",
       "    </tr>\n",
       "    <tr>\n",
       "      <th>3</th>\n",
       "      <td>lost</td>\n",
       "      <td>639</td>\n",
       "      <td>0.114066</td>\n",
       "    </tr>\n",
       "    <tr>\n",
       "      <th>4</th>\n",
       "      <td>abount_to_sleep</td>\n",
       "      <td>435</td>\n",
       "      <td>0.077651</td>\n",
       "    </tr>\n",
       "    <tr>\n",
       "      <th>5</th>\n",
       "      <td>new_customer</td>\n",
       "      <td>253</td>\n",
       "      <td>0.045162</td>\n",
       "    </tr>\n",
       "    <tr>\n",
       "      <th>6</th>\n",
       "      <td>don_not_lose_then</td>\n",
       "      <td>245</td>\n",
       "      <td>0.043734</td>\n",
       "    </tr>\n",
       "    <tr>\n",
       "      <th>7</th>\n",
       "      <td>need_attention</td>\n",
       "      <td>239</td>\n",
       "      <td>0.042663</td>\n",
       "    </tr>\n",
       "    <tr>\n",
       "      <th>8</th>\n",
       "      <td>promissing</td>\n",
       "      <td>231</td>\n",
       "      <td>0.041235</td>\n",
       "    </tr>\n",
       "    <tr>\n",
       "      <th>9</th>\n",
       "      <td>champion</td>\n",
       "      <td>205</td>\n",
       "      <td>0.036594</td>\n",
       "    </tr>\n",
       "    <tr>\n",
       "      <th>10</th>\n",
       "      <td>hibernation</td>\n",
       "      <td>194</td>\n",
       "      <td>0.034630</td>\n",
       "    </tr>\n",
       "  </tbody>\n",
       "</table>\n",
       "</div>"
      ],
      "text/plain": [
       "                class  customer_id         %\n",
       "0             at_risk         1162  0.207426\n",
       "1     potential_loyal         1102  0.196715\n",
       "2      loyal_customer          897  0.160121\n",
       "3                lost          639  0.114066\n",
       "4     abount_to_sleep          435  0.077651\n",
       "5        new_customer          253  0.045162\n",
       "6   don_not_lose_then          245  0.043734\n",
       "7      need_attention          239  0.042663\n",
       "8          promissing          231  0.041235\n",
       "9            champion          205  0.036594\n",
       "10        hibernation          194  0.034630"
      ]
     },
     "execution_count": 315,
     "metadata": {},
     "output_type": "execute_result"
    }
   ],
   "source": [
    "aux1 = df_customer[['class', 'customer_id']].groupby('class').count().sort_values('customer_id', ascending=False).reset_index()\n",
    "aux1['%'] = aux1['customer_id'] / aux1['customer_id'].sum()\n",
    "\n",
    "aux1"
   ]
  },
  {
   "cell_type": "code",
   "execution_count": 316,
   "id": "10f3c15c",
   "metadata": {
    "ExecuteTime": {
     "end_time": "2023-06-23T12:00:02.695005Z",
     "start_time": "2023-06-23T12:00:02.328971Z"
    }
   },
   "outputs": [
    {
     "data": {
      "image/png": "[encoded data removed]",
      "text/plain": [
       "<Figure size 1224x504 with 1 Axes>"
      ]
     },
     "metadata": {},
     "output_type": "display_data"
    }
   ],
   "source": [
    "fig, ax = plt.subplots(figsize=(17, 7))\n",
    "\n",
    "# add the plot\n",
    "sns.barplot(x='class', y='customer_id', data=aux1, capsize=0.2, ax=ax)\n",
    "\n",
    "# add the annotation\n",
    "ax.bar_label(ax.containers[-1], fmt='Clientes:\\n%.0f', label_type='center')\n",
    "\n",
    "ax.set(ylabel='Clientes', xlabel='Classe')\n",
    "plt.show()"
   ]
  },
  {
   "cell_type": "code",
   "execution_count": 317,
   "id": "324b75e9",
   "metadata": {
    "ExecuteTime": {
     "end_time": "2023-06-23T12:00:02.723067Z",
     "start_time": "2023-06-23T12:00:02.697003Z"
    }
   },
   "outputs": [
    {
     "data": {
      "text/html": [
       "<div>\n",
       "<style scoped>\n",
       "    .dataframe tbody tr th:only-of-type {\n",
       "        vertical-align: middle;\n",
       "    }\n",
       "\n",
       "    .dataframe tbody tr th {\n",
       "        vertical-align: top;\n",
       "    }\n",
       "\n",
       "    .dataframe thead th {\n",
       "        text-align: right;\n",
       "    }\n",
       "</style>\n",
       "<table border=\"1\" class=\"dataframe\">\n",
       "  <thead>\n",
       "    <tr style=\"text-align: right;\">\n",
       "      <th></th>\n",
       "      <th>class</th>\n",
       "      <th>%</th>\n",
       "    </tr>\n",
       "  </thead>\n",
       "  <tbody>\n",
       "    <tr>\n",
       "      <th>0</th>\n",
       "      <td>at_risk</td>\n",
       "      <td>0.207426</td>\n",
       "    </tr>\n",
       "    <tr>\n",
       "      <th>1</th>\n",
       "      <td>potential_loyal</td>\n",
       "      <td>0.196715</td>\n",
       "    </tr>\n",
       "    <tr>\n",
       "      <th>2</th>\n",
       "      <td>loyal_customer</td>\n",
       "      <td>0.160121</td>\n",
       "    </tr>\n",
       "    <tr>\n",
       "      <th>3</th>\n",
       "      <td>lost</td>\n",
       "      <td>0.114066</td>\n",
       "    </tr>\n",
       "    <tr>\n",
       "      <th>4</th>\n",
       "      <td>abount_to_sleep</td>\n",
       "      <td>0.077651</td>\n",
       "    </tr>\n",
       "    <tr>\n",
       "      <th>5</th>\n",
       "      <td>new_customer</td>\n",
       "      <td>0.045162</td>\n",
       "    </tr>\n",
       "    <tr>\n",
       "      <th>6</th>\n",
       "      <td>don_not_lose_then</td>\n",
       "      <td>0.043734</td>\n",
       "    </tr>\n",
       "    <tr>\n",
       "      <th>7</th>\n",
       "      <td>need_attention</td>\n",
       "      <td>0.042663</td>\n",
       "    </tr>\n",
       "    <tr>\n",
       "      <th>8</th>\n",
       "      <td>promissing</td>\n",
       "      <td>0.041235</td>\n",
       "    </tr>\n",
       "    <tr>\n",
       "      <th>9</th>\n",
       "      <td>champion</td>\n",
       "      <td>0.036594</td>\n",
       "    </tr>\n",
       "    <tr>\n",
       "      <th>10</th>\n",
       "      <td>hibernation</td>\n",
       "      <td>0.034630</td>\n",
       "    </tr>\n",
       "  </tbody>\n",
       "</table>\n",
       "</div>"
      ],
      "text/plain": [
       "                class         %\n",
       "0             at_risk  0.207426\n",
       "1     potential_loyal  0.196715\n",
       "2      loyal_customer  0.160121\n",
       "3                lost  0.114066\n",
       "4     abount_to_sleep  0.077651\n",
       "5        new_customer  0.045162\n",
       "6   don_not_lose_then  0.043734\n",
       "7      need_attention  0.042663\n",
       "8          promissing  0.041235\n",
       "9            champion  0.036594\n",
       "10        hibernation  0.034630"
      ]
     },
     "execution_count": 317,
     "metadata": {},
     "output_type": "execute_result"
    }
   ],
   "source": [
    "aux1[['class', '%']]"
   ]
  },
  {
   "cell_type": "code",
   "execution_count": 318,
   "id": "d66da018",
   "metadata": {
    "ExecuteTime": {
     "end_time": "2023-06-23T12:00:02.754981Z",
     "start_time": "2023-06-23T12:00:02.726059Z"
    }
   },
   "outputs": [
    {
     "data": {
      "text/html": [
       "<div>\n",
       "<style scoped>\n",
       "    .dataframe tbody tr th:only-of-type {\n",
       "        vertical-align: middle;\n",
       "    }\n",
       "\n",
       "    .dataframe tbody tr th {\n",
       "        vertical-align: top;\n",
       "    }\n",
       "\n",
       "    .dataframe thead th {\n",
       "        text-align: right;\n",
       "    }\n",
       "</style>\n",
       "<table border=\"1\" class=\"dataframe\">\n",
       "  <thead>\n",
       "    <tr style=\"text-align: right;\">\n",
       "      <th></th>\n",
       "      <th>class</th>\n",
       "      <th>total_invoice_price</th>\n",
       "      <th>%</th>\n",
       "    </tr>\n",
       "  </thead>\n",
       "  <tbody>\n",
       "    <tr>\n",
       "      <th>0</th>\n",
       "      <td>potential_loyal</td>\n",
       "      <td>5380205.29</td>\n",
       "      <td>0.329817</td>\n",
       "    </tr>\n",
       "    <tr>\n",
       "      <th>1</th>\n",
       "      <td>loyal_customer</td>\n",
       "      <td>2463112.37</td>\n",
       "      <td>0.150994</td>\n",
       "    </tr>\n",
       "    <tr>\n",
       "      <th>2</th>\n",
       "      <td>champion</td>\n",
       "      <td>1922133.11</td>\n",
       "      <td>0.117830</td>\n",
       "    </tr>\n",
       "    <tr>\n",
       "      <th>3</th>\n",
       "      <td>abount_to_sleep</td>\n",
       "      <td>1485482.73</td>\n",
       "      <td>0.091063</td>\n",
       "    </tr>\n",
       "    <tr>\n",
       "      <th>4</th>\n",
       "      <td>new_customer</td>\n",
       "      <td>1312365.63</td>\n",
       "      <td>0.080451</td>\n",
       "    </tr>\n",
       "    <tr>\n",
       "      <th>5</th>\n",
       "      <td>promissing</td>\n",
       "      <td>1220397.12</td>\n",
       "      <td>0.074813</td>\n",
       "    </tr>\n",
       "    <tr>\n",
       "      <th>6</th>\n",
       "      <td>at_risk</td>\n",
       "      <td>842442.40</td>\n",
       "      <td>0.051643</td>\n",
       "    </tr>\n",
       "    <tr>\n",
       "      <th>7</th>\n",
       "      <td>need_attention</td>\n",
       "      <td>673651.05</td>\n",
       "      <td>0.041296</td>\n",
       "    </tr>\n",
       "    <tr>\n",
       "      <th>8</th>\n",
       "      <td>lost</td>\n",
       "      <td>630024.23</td>\n",
       "      <td>0.038622</td>\n",
       "    </tr>\n",
       "    <tr>\n",
       "      <th>9</th>\n",
       "      <td>don_not_lose_then</td>\n",
       "      <td>217520.91</td>\n",
       "      <td>0.013334</td>\n",
       "    </tr>\n",
       "    <tr>\n",
       "      <th>10</th>\n",
       "      <td>hibernation</td>\n",
       "      <td>165366.23</td>\n",
       "      <td>0.010137</td>\n",
       "    </tr>\n",
       "  </tbody>\n",
       "</table>\n",
       "</div>"
      ],
      "text/plain": [
       "                class  total_invoice_price         %\n",
       "0     potential_loyal           5380205.29  0.329817\n",
       "1      loyal_customer           2463112.37  0.150994\n",
       "2            champion           1922133.11  0.117830\n",
       "3     abount_to_sleep           1485482.73  0.091063\n",
       "4        new_customer           1312365.63  0.080451\n",
       "5          promissing           1220397.12  0.074813\n",
       "6             at_risk            842442.40  0.051643\n",
       "7      need_attention            673651.05  0.041296\n",
       "8                lost            630024.23  0.038622\n",
       "9   don_not_lose_then            217520.91  0.013334\n",
       "10        hibernation            165366.23  0.010137"
      ]
     },
     "execution_count": 318,
     "metadata": {},
     "output_type": "execute_result"
    }
   ],
   "source": [
    "aux2 = df_customer[['class', 'total_invoice_price']].groupby('class').sum().sort_values('total_invoice_price', ascending=False).reset_index()\n",
    "aux2['%'] = aux2['total_invoice_price'] / aux2['total_invoice_price'].sum()\n",
    "\n",
    "aux2"
   ]
  },
  {
   "cell_type": "code",
   "execution_count": 319,
   "id": "df077854",
   "metadata": {
    "ExecuteTime": {
     "end_time": "2023-06-23T12:00:03.090946Z",
     "start_time": "2023-06-23T12:00:02.758971Z"
    },
    "scrolled": false
   },
   "outputs": [
    {
     "data": {
      "image/png": "[encoded data removed]",
      "text/plain": [
       "<Figure size 1224x504 with 1 Axes>"
      ]
     },
     "metadata": {},
     "output_type": "display_data"
    }
   ],
   "source": [
    "fig, ax = plt.subplots(figsize=(17, 7))\n",
    "\n",
    "# add the plot\n",
    "sns.barplot(x='class', y='total_invoice_price', data=aux2, capsize=0.2, ax=ax)\n",
    "\n",
    "# add the annotation\n",
    "ax.bar_label(ax.containers[-1], fmt='R$:\\n%.2f', label_type='center')\n",
    "\n",
    "ax.set(ylabel='Valor Total', xlabel='Classe')\n",
    "plt.show()"
   ]
  },
  {
   "cell_type": "code",
   "execution_count": null,
   "id": "bec04e44",
   "metadata": {},
   "outputs": [],
   "source": []
  },
  {
   "cell_type": "code",
   "execution_count": null,
   "id": "a1a4c2fd",
   "metadata": {},
   "outputs": [],
   "source": []
  },
  {
   "cell_type": "code",
   "execution_count": null,
   "id": "d9c5a319",
   "metadata": {},
   "outputs": [],
   "source": []
  }
 ],
 "metadata": {
  "kernelspec": {
   "display_name": "Python 3 (ipykernel)",
   "language": "python",
   "name": "python3"
  },
  "language_info": {
   "codemirror_mode": {
    "name": "ipython",
    "version": 3
   },
   "file_extension": ".py",
   "mimetype": "text/x-python",
   "name": "python",
   "nbconvert_exporter": "python",
   "pygments_lexer": "ipython3",
   "version": "3.9.12"
  },
  "varInspector": {
   "cols": {
    "lenName": 16,
    "lenType": 16,
    "lenVar": 40
   },
   "kernels_config": {
    "python": {
     "delete_cmd_postfix": "",
     "delete_cmd_prefix": "del ",
     "library": "var_list.py",
     "varRefreshCmd": "print(var_dic_list())"
    },
    "r": {
     "delete_cmd_postfix": ") ",
     "delete_cmd_prefix": "rm(",
     "library": "var_list.r",
     "varRefreshCmd": "cat(var_dic_list()) "
    }
   },
   "types_to_exclude": [
    "module",
    "function",
    "builtin_function_or_method",
    "instance",
    "_Feature"
   ],
   "window_display": false
  }
 },
 "nbformat": 4,
 "nbformat_minor": 5
}
